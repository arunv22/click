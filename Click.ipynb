{
 "cells": [
  {
   "cell_type": "markdown",
   "metadata": {},
   "source": [
    "Problem Statement\n",
    "\n",
    "Click prediction : to predict how often a hotel will be clicked based on its characteristics.\n",
    "\n",
    "Data \n",
    "\n",
    "Target Variable: \n",
    "    n clicks: the number of clicks the hotel has received.\n",
    "\n",
    "Feature Variable:\n",
    "    1. hotel id: a number uniquely identifying each hotel.\n",
    "    2. city id: describes the city the hotel is located in.\n",
    "    3. content score: describes the quality of the content that is provided for the hotel on a scale from 0 (worst) to 100 (best).\n",
    "    4. n images: number of images that are available for the given hotel.\n",
    "    5. distance to center: distance (in meters) of the hotel to the nearest city center.\n",
    "    6. avg rating: average rating of the hotel on a scale from 0 (worst) to 100 (best).\n",
    "    7. n reviews: number of reviews that are available for that hotel.\n",
    "    8. avg rank: average position the hotel had in the list.\n",
    "    9. avg price: average price in Euro of the hotel.\n",
    "    10.avg saving percent: average saving users achieve on this hotel by using trivago.\n",
    "\n",
    "\n",
    "Given training set has 396487 observations and 132162 observations for test set.\n",
    "\n",
    "Final model, a mix of both classification and regression technique, is built to predict n_clicks. \n",
    "\n",
    "I have followed standard data munging pipeline, namely (1) data cleaning, (2) feature engineering (3) exploratory data analysis and (4) model building. \n",
    "\n",
    "\n"
   ]
  },
  {
   "cell_type": "code",
   "execution_count": 1,
   "metadata": {},
   "outputs": [],
   "source": [
    "#Starting with loading required packages.\n",
    "import pandas as pd\n",
    "import numpy as np\n",
    "import matplotlib.pyplot as plt\n",
    "from scipy.stats import skew\n",
    "from scipy.stats import ttest_ind, f_oneway, lognorm, levy, skew, chisquare\n",
    "from sklearn.model_selection import train_test_split\n",
    "from sklearn.preprocessing import label_binarize\n",
    "from sklearn.model_selection import KFold\n",
    "from sklearn.model_selection import StratifiedKFold\n",
    "from sklearn.model_selection import cross_val_score\n",
    "from sklearn.model_selection import cross_val_predict\n",
    "from sklearn.metrics import roc_curve, auc\n",
    "from sklearn.naive_bayes import GaussianNB\n",
    "from sklearn.linear_model import LogisticRegression\n",
    "from sklearn.ensemble import RandomForestClassifier\n",
    "from sklearn.svm import LinearSVC\n",
    "from sklearn.calibration import calibration_curve\n",
    "from scipy import interp\n",
    "import scipy.stats as st\n",
    "from sklearn.preprocessing import normalize, scale\n",
    "from tabulate import tabulate\n",
    "%matplotlib inline\n",
    "\n",
    "import warnings\n",
    "warnings.filterwarnings('ignore')\n",
    "pd.set_option('display.float_format', '{:.2f}'.format)"
   ]
  },
  {
   "cell_type": "markdown",
   "metadata": {},
   "source": [
    "I have downloaded and saved the data in a local folder.\n",
    "Let's load the train and test file seperately and merge it to a single dataframe(df) and work on this to avoid repetition of any modifications done before building the model."
   ]
  },
  {
   "cell_type": "code",
   "execution_count": 2,
   "metadata": {},
   "outputs": [
    {
     "data": {
      "text/plain": [
       "((528649, 13), (396487, 13), (132162, 12))"
      ]
     },
     "execution_count": 2,
     "metadata": {},
     "output_type": "execute_result"
    }
   ],
   "source": [
    "train=pd.read_csv(\"C:/Users/Toshiba/Downloads/Submissions/Trivago/train_set.csv\")\n",
    "test_m=pd.read_csv(\"C:/Users/Toshiba/Downloads/Submissions/Trivago/test_set.csv\")\n",
    "train['Type']='Train' #Create a flag for Train and Test Data set\n",
    "test_m['Type']='Test'\n",
    "df = pd.concat([train,test_m],axis=0) #Combined both Train and Test Data set\n",
    "df.shape,train.shape,test_m.shape"
   ]
  },
  {
   "cell_type": "code",
   "execution_count": 3,
   "metadata": {},
   "outputs": [
    {
     "name": "stdout",
     "output_type": "stream",
     "text": [
      "<class 'pandas.core.frame.DataFrame'>\n",
      "Int64Index: 528649 entries, 0 to 132161\n",
      "Data columns (total 13 columns):\n",
      "Type                  528649 non-null object\n",
      "avg_price             528421 non-null float64\n",
      "avg_rank              528649 non-null float64\n",
      "avg_rating            381621 non-null float64\n",
      "avg_saving_percent    528421 non-null float64\n",
      "city_id               527986 non-null float64\n",
      "content_score         527986 non-null float64\n",
      "distance_to_center    527957 non-null float64\n",
      "hotel_id              528649 non-null float64\n",
      "n_clicks              396487 non-null float64\n",
      "n_images              527984 non-null float64\n",
      "n_reviews             527957 non-null float64\n",
      "stars                 527912 non-null float64\n",
      "dtypes: float64(12), object(1)\n",
      "memory usage: 56.5+ MB\n"
     ]
    }
   ],
   "source": [
    "#df.info() # checking if the datatype is correct or not\n",
    "df.info()"
   ]
  },
  {
   "cell_type": "markdown",
   "metadata": {},
   "source": [
    "This dataset seeems to have highly skewed continous features. Let's explore more by visually examining its distribution"
   ]
  },
  {
   "cell_type": "code",
   "execution_count": 4,
   "metadata": {
    "scrolled": false
   },
   "outputs": [
    {
     "data": {
      "text/html": [
       "<div>\n",
       "<style scoped>\n",
       "    .dataframe tbody tr th:only-of-type {\n",
       "        vertical-align: middle;\n",
       "    }\n",
       "\n",
       "    .dataframe tbody tr th {\n",
       "        vertical-align: top;\n",
       "    }\n",
       "\n",
       "    .dataframe thead th {\n",
       "        text-align: right;\n",
       "    }\n",
       "</style>\n",
       "<table border=\"1\" class=\"dataframe\">\n",
       "  <thead>\n",
       "    <tr style=\"text-align: right;\">\n",
       "      <th></th>\n",
       "      <th>count</th>\n",
       "      <th>mean</th>\n",
       "      <th>std</th>\n",
       "      <th>min</th>\n",
       "      <th>25%</th>\n",
       "      <th>50%</th>\n",
       "      <th>75%</th>\n",
       "      <th>max</th>\n",
       "    </tr>\n",
       "  </thead>\n",
       "  <tbody>\n",
       "    <tr>\n",
       "      <th>avg_price</th>\n",
       "      <td>528421.00</td>\n",
       "      <td>109.18</td>\n",
       "      <td>147.38</td>\n",
       "      <td>4.00</td>\n",
       "      <td>51.00</td>\n",
       "      <td>77.60</td>\n",
       "      <td>120.95</td>\n",
       "      <td>8000.00</td>\n",
       "    </tr>\n",
       "    <tr>\n",
       "      <th>avg_rank</th>\n",
       "      <td>528649.00</td>\n",
       "      <td>14.70</td>\n",
       "      <td>5.62</td>\n",
       "      <td>1.00</td>\n",
       "      <td>11.08</td>\n",
       "      <td>15.00</td>\n",
       "      <td>18.39</td>\n",
       "      <td>100.00</td>\n",
       "    </tr>\n",
       "    <tr>\n",
       "      <th>avg_rating</th>\n",
       "      <td>381621.00</td>\n",
       "      <td>81.62</td>\n",
       "      <td>6.02</td>\n",
       "      <td>34.00</td>\n",
       "      <td>79.00</td>\n",
       "      <td>83.00</td>\n",
       "      <td>86.00</td>\n",
       "      <td>98.00</td>\n",
       "    </tr>\n",
       "    <tr>\n",
       "      <th>avg_saving_percent</th>\n",
       "      <td>528421.00</td>\n",
       "      <td>7.16</td>\n",
       "      <td>13.06</td>\n",
       "      <td>0.00</td>\n",
       "      <td>0.00</td>\n",
       "      <td>0.00</td>\n",
       "      <td>10.00</td>\n",
       "      <td>100.00</td>\n",
       "    </tr>\n",
       "    <tr>\n",
       "      <th>city_id</th>\n",
       "      <td>527986.00</td>\n",
       "      <td>149207.27</td>\n",
       "      <td>219290.12</td>\n",
       "      <td>2.00</td>\n",
       "      <td>32010.00</td>\n",
       "      <td>55122.00</td>\n",
       "      <td>137456.00</td>\n",
       "      <td>878736.00</td>\n",
       "    </tr>\n",
       "    <tr>\n",
       "      <th>content_score</th>\n",
       "      <td>527986.00</td>\n",
       "      <td>50.98</td>\n",
       "      <td>11.57</td>\n",
       "      <td>7.00</td>\n",
       "      <td>45.00</td>\n",
       "      <td>53.00</td>\n",
       "      <td>59.00</td>\n",
       "      <td>81.00</td>\n",
       "    </tr>\n",
       "    <tr>\n",
       "      <th>distance_to_center</th>\n",
       "      <td>527957.00</td>\n",
       "      <td>16139.15</td>\n",
       "      <td>269024.54</td>\n",
       "      <td>0.00</td>\n",
       "      <td>544.00</td>\n",
       "      <td>1515.00</td>\n",
       "      <td>4162.00</td>\n",
       "      <td>18341550.00</td>\n",
       "    </tr>\n",
       "    <tr>\n",
       "      <th>hotel_id</th>\n",
       "      <td>528649.00</td>\n",
       "      <td>132668050617.89</td>\n",
       "      <td>103420473052.88</td>\n",
       "      <td>155796153.00</td>\n",
       "      <td>40701082970.00</td>\n",
       "      <td>108602473300.00</td>\n",
       "      <td>228375353198.00</td>\n",
       "      <td>323711383754.00</td>\n",
       "    </tr>\n",
       "    <tr>\n",
       "      <th>n_clicks</th>\n",
       "      <td>396487.00</td>\n",
       "      <td>13.78</td>\n",
       "      <td>123.57</td>\n",
       "      <td>0.00</td>\n",
       "      <td>0.00</td>\n",
       "      <td>0.00</td>\n",
       "      <td>2.00</td>\n",
       "      <td>13742.00</td>\n",
       "    </tr>\n",
       "    <tr>\n",
       "      <th>n_images</th>\n",
       "      <td>527984.00</td>\n",
       "      <td>283.76</td>\n",
       "      <td>18293.67</td>\n",
       "      <td>-1.00</td>\n",
       "      <td>0.00</td>\n",
       "      <td>1.00</td>\n",
       "      <td>2.00</td>\n",
       "      <td>2628317.00</td>\n",
       "    </tr>\n",
       "    <tr>\n",
       "      <th>n_reviews</th>\n",
       "      <td>527957.00</td>\n",
       "      <td>910.56</td>\n",
       "      <td>2453.64</td>\n",
       "      <td>0.00</td>\n",
       "      <td>0.00</td>\n",
       "      <td>186.00</td>\n",
       "      <td>774.00</td>\n",
       "      <td>283089.00</td>\n",
       "    </tr>\n",
       "    <tr>\n",
       "      <th>stars</th>\n",
       "      <td>527912.00</td>\n",
       "      <td>1.16</td>\n",
       "      <td>1.62</td>\n",
       "      <td>0.00</td>\n",
       "      <td>0.00</td>\n",
       "      <td>0.00</td>\n",
       "      <td>3.00</td>\n",
       "      <td>5.00</td>\n",
       "    </tr>\n",
       "  </tbody>\n",
       "</table>\n",
       "</div>"
      ],
      "text/plain": [
       "                       count            mean             std          min  \\\n",
       "avg_price          528421.00          109.18          147.38         4.00   \n",
       "avg_rank           528649.00           14.70            5.62         1.00   \n",
       "avg_rating         381621.00           81.62            6.02        34.00   \n",
       "avg_saving_percent 528421.00            7.16           13.06         0.00   \n",
       "city_id            527986.00       149207.27       219290.12         2.00   \n",
       "content_score      527986.00           50.98           11.57         7.00   \n",
       "distance_to_center 527957.00        16139.15       269024.54         0.00   \n",
       "hotel_id           528649.00 132668050617.89 103420473052.88 155796153.00   \n",
       "n_clicks           396487.00           13.78          123.57         0.00   \n",
       "n_images           527984.00          283.76        18293.67        -1.00   \n",
       "n_reviews          527957.00          910.56         2453.64         0.00   \n",
       "stars              527912.00            1.16            1.62         0.00   \n",
       "\n",
       "                              25%             50%             75%  \\\n",
       "avg_price                   51.00           77.60          120.95   \n",
       "avg_rank                    11.08           15.00           18.39   \n",
       "avg_rating                  79.00           83.00           86.00   \n",
       "avg_saving_percent           0.00            0.00           10.00   \n",
       "city_id                  32010.00        55122.00       137456.00   \n",
       "content_score               45.00           53.00           59.00   \n",
       "distance_to_center         544.00         1515.00         4162.00   \n",
       "hotel_id           40701082970.00 108602473300.00 228375353198.00   \n",
       "n_clicks                     0.00            0.00            2.00   \n",
       "n_images                     0.00            1.00            2.00   \n",
       "n_reviews                    0.00          186.00          774.00   \n",
       "stars                        0.00            0.00            3.00   \n",
       "\n",
       "                               max  \n",
       "avg_price                  8000.00  \n",
       "avg_rank                    100.00  \n",
       "avg_rating                   98.00  \n",
       "avg_saving_percent          100.00  \n",
       "city_id                  878736.00  \n",
       "content_score                81.00  \n",
       "distance_to_center     18341550.00  \n",
       "hotel_id           323711383754.00  \n",
       "n_clicks                  13742.00  \n",
       "n_images                2628317.00  \n",
       "n_reviews                283089.00  \n",
       "stars                         5.00  "
      ]
     },
     "execution_count": 4,
     "metadata": {},
     "output_type": "execute_result"
    }
   ],
   "source": [
    "df.describe().T"
   ]
  },
  {
   "cell_type": "code",
   "execution_count": 5,
   "metadata": {},
   "outputs": [
    {
     "data": {
      "text/plain": [
       "array([[<matplotlib.axes._subplots.AxesSubplot object at 0x000002790CD5B588>,\n",
       "        <matplotlib.axes._subplots.AxesSubplot object at 0x000002790CDB8908>,\n",
       "        <matplotlib.axes._subplots.AxesSubplot object at 0x000002790CDE1B70>],\n",
       "       [<matplotlib.axes._subplots.AxesSubplot object at 0x000002790D09DDD8>,\n",
       "        <matplotlib.axes._subplots.AxesSubplot object at 0x000002790D0D0080>,\n",
       "        <matplotlib.axes._subplots.AxesSubplot object at 0x000002790D0F72B0>],\n",
       "       [<matplotlib.axes._subplots.AxesSubplot object at 0x000002790D121518>,\n",
       "        <matplotlib.axes._subplots.AxesSubplot object at 0x000002790D1487B8>,\n",
       "        <matplotlib.axes._subplots.AxesSubplot object at 0x000002790D1487F0>],\n",
       "       [<matplotlib.axes._subplots.AxesSubplot object at 0x000002790DD6CC50>,\n",
       "        <matplotlib.axes._subplots.AxesSubplot object at 0x000002790DD94EB8>,\n",
       "        <matplotlib.axes._subplots.AxesSubplot object at 0x000002790DDC6160>]],\n",
       "      dtype=object)"
      ]
     },
     "execution_count": 5,
     "metadata": {},
     "output_type": "execute_result"
    },
    {
     "data": {
      "image/png": "[encoded data removed]",
      "text/plain": [
       "<Figure size 1440x1080 with 12 Axes>"
      ]
     },
     "metadata": {
      "needs_background": "light"
     },
     "output_type": "display_data"
    }
   ],
   "source": [
    "df.hist(bins=50,figsize=(20,15))"
   ]
  },
  {
   "cell_type": "markdown",
   "metadata": {},
   "source": [
    "Keeping this skewness trend and occurence of 0 as most frequent observation in number of clicks variable, let's \n",
    "continue with the data cleaning part especially removal of missing values and outliers."
   ]
  },
  {
   "cell_type": "code",
   "execution_count": 6,
   "metadata": {},
   "outputs": [],
   "source": [
    "# Function to calculate missing values by column\n",
    "def missing_values_table(df):\n",
    "        # Total missing values\n",
    "        mis_val = df.isnull().sum()\n",
    "        \n",
    "        # Percentage of missing values\n",
    "        mis_val_percent = 100 * df.isnull().sum() / len(df)\n",
    "        \n",
    "        # Make a table with the results\n",
    "        mis_val_table = pd.concat([mis_val, mis_val_percent], axis=1)\n",
    "        \n",
    "        # Rename the columns\n",
    "        mis_val_table_ren_columns = mis_val_table.rename(\n",
    "        columns = {0 : 'Missing Values', 1 : '% of Total Values'})\n",
    "        \n",
    "        # Sort the table by percentage of missing descending\n",
    "        mis_val_table_ren_columns = mis_val_table_ren_columns[\n",
    "            mis_val_table_ren_columns.iloc[:,1] != 0].sort_values(\n",
    "        '% of Total Values', ascending=False).round(1)\n",
    "        \n",
    "        # Print some summary information\n",
    "        print (\"Your selected dataframe has \" + str(df.shape[1]) + \" columns.\\n\"      \n",
    "            \"There are \" + str(mis_val_table_ren_columns.shape[0]) +\n",
    "              \" columns that have missing values.\")\n",
    "        \n",
    "        # Return the dataframe with missing information\n",
    "        return mis_val_table_ren_columns"
   ]
  },
  {
   "cell_type": "markdown",
   "metadata": {},
   "source": [
    "To Drop or Not to Drop\n",
    "\n",
    "It should be noted that our test data don't have n_clicks(target) and hence missing value for the variable showing higher numbers.\n",
    "\n",
    "One column avg rating has high missing value share in its column which is eliminated from further analysis as imputing na s with mean/median will be a pure guessing and can make biases on the final target variable since this data already has many columns with high variances. \n",
    "\n",
    "I believe dropping data is always a harsh step and should be taken only in extreme conditions.But in this case, we have too many observations and missing values are few, then we can think of dropping these observations(entire row) with missing value; thus,removed entire NA's "
   ]
  },
  {
   "cell_type": "code",
   "execution_count": null,
   "metadata": {},
   "outputs": [],
   "source": []
  },
  {
   "cell_type": "markdown",
   "metadata": {},
   "source": [
    "Although the problem is predicting a numerical value(number of clicks) , n_clicks=0 is the most often occuring case and if we build a regression model with features that have very high variances, the resultant prediction might not capture the same pattern of high occurance of n_clicks=0. Keeping in mind this problem, my attempt to solve this regression problem is by first predicting whether there is high chance of target(n_clicks) is zero or not; A binary classification problem, and if the target is greater than 0, then predict the number of clicks(n_clicks); A regression model"
   ]
  },
  {
   "cell_type": "markdown",
   "metadata": {},
   "source": [
    "Include logarithmic values of those numerical features which are highly skewed with high value outliers. To avoid correlation between features, I am dropping those original features whose logarithmic values are created."
   ]
  },
  {
   "cell_type": "code",
   "execution_count": 7,
   "metadata": {},
   "outputs": [],
   "source": [
    "def engineer_features(adata):\n",
    "    # make copy of the original dataset\n",
    "    data = adata.copy()\n",
    "    data=data.drop(['avg_rating'],axis=1)\n",
    "    data['city_id']=data['city_id'].astype('category')\n",
    "    data['stars']=data['stars'].astype('category')\n",
    "    data['dist_to_center_km']=data['distance_to_center']/1000\n",
    "    data['n_images']=data['n_images'].abs()\n",
    "    data['image']=data['n_images'].apply(lambda x: '0' if x < 1 else '1')\n",
    "    data['review']=data['n_reviews'].apply(lambda x: '0' if x < 1 else '1')\n",
    "    data['log_distance'] = data['dist_to_center_km'].apply(lambda x: np.log(x+1))\n",
    "    data['log_image'] = data['n_images'].apply(lambda x: np.log(x+1))\n",
    "    data['log_review'] = data['n_reviews'].apply(lambda x: np.log(x+1))\n",
    "\n",
    "    return data\n",
    "   \n",
    "\n",
    "          \n",
    "                 \n",
    "                 "
   ]
  },
  {
   "cell_type": "code",
   "execution_count": 8,
   "metadata": {},
   "outputs": [],
   "source": [
    "df=engineer_features(df)"
   ]
  },
  {
   "cell_type": "code",
   "execution_count": 9,
   "metadata": {},
   "outputs": [],
   "source": [
    "# Seperating train and test set from data\n",
    "train_m=df[df['Type']=='Train']\n",
    "test_m=df[df['Type']=='Test']\n",
    "# Dropping training set observations with NA s as occurence of NA s are miniscule comapred to our overall train size\n",
    "train=train_m.dropna()\n",
    "test_m=test_m.drop(['n_clicks'],axis=1)\n",
    "# Keeping the test set as such and assign test set with no NA s to new dataframe (test)\n",
    "test=test_m.dropna()\n",
    "#Creating our new target variable 'click'\n",
    "train['click']=train['n_clicks'].apply(lambda x: '0' if x < 1 else '1') \n"
   ]
  },
  {
   "cell_type": "code",
   "execution_count": 10,
   "metadata": {},
   "outputs": [
    {
     "data": {
      "text/plain": [
       "n_clicks              1.00\n",
       "n_reviews             0.22\n",
       "log_image             0.13\n",
       "avg_saving_percent    0.13\n",
       "log_review            0.12\n",
       "content_score         0.10\n",
       "avg_price             0.02\n",
       "n_images              0.00\n",
       "dist_to_center_km    -0.00\n",
       "distance_to_center   -0.00\n",
       "log_distance         -0.01\n",
       "avg_rank             -0.08\n",
       "hotel_id             -0.10\n",
       "Name: n_clicks, dtype: float64"
      ]
     },
     "execution_count": 10,
     "metadata": {},
     "output_type": "execute_result"
    }
   ],
   "source": [
    "corr_matrix = train.corr()\n",
    "corr_matrix[\"n_clicks\"].sort_values(ascending=False)"
   ]
  },
  {
   "cell_type": "markdown",
   "metadata": {},
   "source": [
    "Checking missing values..."
   ]
  },
  {
   "cell_type": "code",
   "execution_count": 11,
   "metadata": {},
   "outputs": [
    {
     "name": "stdout",
     "output_type": "stream",
     "text": [
      "Your selected dataframe has 17 columns.\n",
      "There are 0 columns that have missing values.\n"
     ]
    },
    {
     "data": {
      "text/html": [
       "<div>\n",
       "<style scoped>\n",
       "    .dataframe tbody tr th:only-of-type {\n",
       "        vertical-align: middle;\n",
       "    }\n",
       "\n",
       "    .dataframe tbody tr th {\n",
       "        vertical-align: top;\n",
       "    }\n",
       "\n",
       "    .dataframe thead th {\n",
       "        text-align: right;\n",
       "    }\n",
       "</style>\n",
       "<table border=\"1\" class=\"dataframe\">\n",
       "  <thead>\n",
       "    <tr style=\"text-align: right;\">\n",
       "      <th></th>\n",
       "      <th>Missing Values</th>\n",
       "      <th>% of Total Values</th>\n",
       "    </tr>\n",
       "  </thead>\n",
       "  <tbody>\n",
       "  </tbody>\n",
       "</table>\n",
       "</div>"
      ],
      "text/plain": [
       "Empty DataFrame\n",
       "Columns: [Missing Values, % of Total Values]\n",
       "Index: []"
      ]
     },
     "execution_count": 11,
     "metadata": {},
     "output_type": "execute_result"
    }
   ],
   "source": [
    "missing_values_table(test)"
   ]
  },
  {
   "cell_type": "code",
   "execution_count": 12,
   "metadata": {},
   "outputs": [
    {
     "data": {
      "text/plain": [
       "((396487, 18), (395760, 19), (132162, 17), (131929, 17))"
      ]
     },
     "execution_count": 12,
     "metadata": {},
     "output_type": "execute_result"
    }
   ],
   "source": [
    "train_m.shape,train.shape,test_m.shape,test.shape"
   ]
  },
  {
   "cell_type": "code",
   "execution_count": 13,
   "metadata": {},
   "outputs": [],
   "source": [
    "features_todrop_train=['Type','distance_to_center','n_images', 'n_reviews','dist_to_center_km', 'image','review','n_clicks']\n",
    "features_todrop_test=['Type','distance_to_center','n_images', 'n_reviews','dist_to_center_km', 'image','review']\n",
    "\n",
    "train=train.drop(features_todrop_train,axis=1)\n",
    "test=test.drop(features_todrop_test,axis=1)\n",
    "\n",
    "y = train.pop('click')\n",
    "encoded_column_vector = label_binarize(y, classes=['0','1']) \n",
    "y = np.ravel(encoded_column_vector) # Reshape array\n",
    "X = train"
   ]
  },
  {
   "cell_type": "code",
   "execution_count": 14,
   "metadata": {},
   "outputs": [
    {
     "data": {
      "text/plain": [
       "(Index(['avg_price', 'avg_rank', 'avg_saving_percent', 'city_id',\n",
       "        'content_score', 'hotel_id', 'stars', 'log_distance', 'log_image',\n",
       "        'log_review'],\n",
       "       dtype='object'), (395760,))"
      ]
     },
     "execution_count": 14,
     "metadata": {},
     "output_type": "execute_result"
    }
   ],
   "source": [
    "train.columns,y.shape"
   ]
  },
  {
   "cell_type": "code",
   "execution_count": 15,
   "metadata": {},
   "outputs": [
    {
     "data": {
      "image/png": "[encoded data removed]",
      "text/plain": [
       "<Figure size 720x720 with 2 Axes>"
      ]
     },
     "metadata": {
      "needs_background": "light"
     },
     "output_type": "display_data"
    }
   ],
   "source": [
    "# Selecting the best classification model from a list of classifiers\n",
    "\n",
    "X_train,X_test,y_train,y_test = train_test_split(X,y,test_size=0.2)\n",
    "\n",
    "# Create classifiers\n",
    "lr = LogisticRegression(solver='lbfgs')\n",
    "gnb = GaussianNB()\n",
    "svc = LinearSVC(C=1.0)\n",
    "rfc = RandomForestClassifier(n_estimators=15)\n",
    "\n",
    "# Plot calibration plots\n",
    "\n",
    "plt.figure(figsize=(10, 10))\n",
    "ax1 = plt.subplot2grid((3, 1), (0, 0), rowspan=2)\n",
    "ax2 = plt.subplot2grid((3, 1), (2, 0))\n",
    "\n",
    "ax1.plot([0, 1], [0, 1], \"k:\", label=\"Perfectly calibrated\")\n",
    "for clf, name in [(lr, 'Logistic'),\n",
    "                  (gnb, 'Naive Bayes'),\n",
    "                  (svc, 'Support Vector Classification'),\n",
    "                  (rfc, 'Random Forest')]:\n",
    "    clf.fit(X_train, y_train)\n",
    "    if hasattr(clf, \"predict_proba\"):\n",
    "        prob_pos = clf.predict_proba(X_test)[:, 1]\n",
    "    else:  # use decision function\n",
    "        prob_pos = clf.decision_function(X_test)\n",
    "        prob_pos = \\\n",
    "            (prob_pos - prob_pos.min()) / (prob_pos.max() - prob_pos.min())\n",
    "    fraction_of_positives, mean_predicted_value = \\\n",
    "        calibration_curve(y_test, prob_pos, n_bins=10)\n",
    "\n",
    "    ax1.plot(mean_predicted_value, fraction_of_positives, \"s-\",\n",
    "             label=\"%s\" % (name, ))\n",
    "\n",
    "    ax2.hist(prob_pos, range=(0, 1), bins=10, label=name,\n",
    "             histtype=\"step\", lw=2)\n",
    "\n",
    "ax1.set_ylabel(\"Fraction of positives\")\n",
    "ax1.set_ylim([-0.05, 1.05])\n",
    "ax1.legend(loc=\"lower right\")\n",
    "ax1.set_title('Calibration plots  (reliability curve)')\n",
    "\n",
    "ax2.set_xlabel(\"Mean predicted value\")\n",
    "ax2.set_ylabel(\"Count\")\n",
    "ax2.legend(loc=\"upper center\", ncol=2)\n",
    "\n",
    "plt.tight_layout()\n",
    "plt.show()"
   ]
  },
  {
   "cell_type": "markdown",
   "metadata": {},
   "source": [
    "Perfectly calibarated model is RandomForest Classifier, which is selected to build final model; it's ROC analysis is also done to understand the best threshold value. StratifiedKFold cross validation method is used that helps to build a more generalized model with less overfitting."
   ]
  },
  {
   "cell_type": "code",
   "execution_count": 16,
   "metadata": {
    "scrolled": false
   },
   "outputs": [
    {
     "data": {
      "image/png": "[encoded data removed]",
      "text/plain": [
       "<Figure size 432x288 with 1 Axes>"
      ]
     },
     "metadata": {
      "needs_background": "light"
     },
     "output_type": "display_data"
    }
   ],
   "source": [
    "# Random Forest Classification and ROC analysis\n",
    "X_train,X_test,y_train,y_test = train_test_split(X,y,test_size=0.2)\n",
    "# Run classifier with cross-validation and plot ROC curves\n",
    "cv = StratifiedKFold(n_splits=6)\n",
    "classifier = RandomForestClassifier()\n",
    "tprs = []\n",
    "aucs = []\n",
    "mean_fpr = np.linspace(0, 1, 100)\n",
    "\n",
    "i = 0\n",
    "for trn, tst in cv.split(X, y):\n",
    "    probas_ = classifier.fit(X_train, y_train).predict_proba(X_test)\n",
    "    # Compute ROC curve and area the curve\n",
    "    fpr, tpr, thresholds = roc_curve(y_test, probas_[:, 1])\n",
    "    tprs.append(interp(mean_fpr, fpr, tpr))\n",
    "    tprs[-1][0] = 0.0\n",
    "    roc_auc = auc(fpr, tpr)\n",
    "    aucs.append(roc_auc)\n",
    "    plt.plot(fpr, tpr, lw=1, alpha=0.3,\n",
    "             label='ROC fold %d (AUC = %0.2f)' % (i, roc_auc))\n",
    "\n",
    "    i += 1\n",
    "plt.plot([0, 1], [0, 1], linestyle='--', lw=2, color='r',\n",
    "         label='Chance', alpha=.8)\n",
    "\n",
    "mean_tpr = np.mean(tprs, axis=0)\n",
    "mean_tpr[-1] = 1.0\n",
    "mean_auc = auc(mean_fpr, mean_tpr)\n",
    "std_auc = np.std(aucs)\n",
    "plt.plot(mean_fpr, mean_tpr, color='b',\n",
    "         label=r'Mean ROC (AUC = %0.2f $\\pm$ %0.2f)' % (mean_auc, std_auc),\n",
    "         lw=2, alpha=.8)\n",
    "\n",
    "std_tpr = np.std(tprs, axis=0)\n",
    "tprs_upper = np.minimum(mean_tpr + std_tpr, 1)\n",
    "tprs_lower = np.maximum(mean_tpr - std_tpr, 0)\n",
    "plt.fill_between(mean_fpr, tprs_lower, tprs_upper, color='grey', alpha=.2,\n",
    "                 label=r'$\\pm$ 1 std. dev.')\n",
    "\n",
    "plt.xlim([-0.05, 1.05])\n",
    "plt.ylim([-0.05, 1.05])\n",
    "plt.xlabel('False Positive Rate')\n",
    "plt.ylabel('True Positive Rate')\n",
    "plt.title('Receiver operating characteristic example')\n",
    "plt.legend(loc=\"lower right\")\n",
    "plt.show()"
   ]
  },
  {
   "cell_type": "code",
   "execution_count": 17,
   "metadata": {},
   "outputs": [
    {
     "data": {
      "text/plain": [
       "array([[46248,  5539],\n",
       "       [13440, 13925]], dtype=int64)"
      ]
     },
     "execution_count": 17,
     "metadata": {},
     "output_type": "execute_result"
    }
   ],
   "source": [
    "y_pred=classifier.predict(X_test)\n",
    "from sklearn.metrics import confusion_matrix\n",
    "confusion_matrix(y_test, y_pred)\n"
   ]
  },
  {
   "cell_type": "code",
   "execution_count": 18,
   "metadata": {},
   "outputs": [
    {
     "data": {
      "text/plain": [
       "[]"
      ]
     },
     "execution_count": 18,
     "metadata": {},
     "output_type": "execute_result"
    },
    {
     "data": {
      "image/png": "[encoded data removed]",
      "text/plain": [
       "<Figure size 432x288 with 1 Axes>"
      ]
     },
     "metadata": {
      "needs_background": "light"
     },
     "output_type": "display_data"
    }
   ],
   "source": [
    "i = np.arange(len(tpr)) # index for df\n",
    "roc = pd.DataFrame({'fpr' : pd.Series(fpr, index=i),'tpr' : pd.Series(tpr, index = i), '1-fpr' : pd.Series(1-fpr, index = i), 'tf' : pd.Series(tpr - (1-fpr), index = i), 'thresholds' : pd.Series(thresholds, index = i)})\n",
    "roc.ix[(roc.tf-0).abs().argsort()[:1]]\n",
    "\n",
    "# Plot tpr vs 1-fpr\n",
    "fig, ax = plt.subplots()\n",
    "plt.plot(roc['tpr'])\n",
    "plt.plot(roc['1-fpr'], color = 'red')\n",
    "plt.xlabel('1-False Positive Rate')\n",
    "plt.ylabel('True Positive Rate')\n",
    "plt.title('Receiver operating characteristic')\n",
    "ax.set_xticklabels([])\n",
    "#ax.set_yticklabels([])"
   ]
  },
  {
   "cell_type": "code",
   "execution_count": 19,
   "metadata": {},
   "outputs": [
    {
     "data": {
      "text/plain": [
       "((395760, 10), (131929, 10), (132162, 17))"
      ]
     },
     "execution_count": 19,
     "metadata": {},
     "output_type": "execute_result"
    }
   ],
   "source": [
    "train.shape,test.shape,test_m.shape"
   ]
  },
  {
   "cell_type": "code",
   "execution_count": 20,
   "metadata": {},
   "outputs": [],
   "source": [
    "# Find prediction to the dataframe applying threshold=0.3 as deducted from the plot above\n",
    "test['y_prob_rf'] = classifier.predict_proba(test)[:, 1]\n",
    "test['y_rf'] = test['y_prob_rf'].map(lambda x: 1 if x > 0.3 else 0)\n"
   ]
  },
  {
   "cell_type": "markdown",
   "metadata": {},
   "source": [
    "Merge the predicted class with the main test set which has all observations including NA s"
   ]
  },
  {
   "cell_type": "code",
   "execution_count": 21,
   "metadata": {},
   "outputs": [],
   "source": [
    "test_m = pd.merge(test_m,test[['hotel_id','y_prob_rf', 'y_rf']], left_on='hotel_id', right_on='hotel_id',\n",
    "                   how='left')"
   ]
  },
  {
   "cell_type": "markdown",
   "metadata": {},
   "source": [
    "predicted value y_pred is assigned value 1 for all observations i.e including NA s except for y_pred equals 0"
   ]
  },
  {
   "cell_type": "code",
   "execution_count": 22,
   "metadata": {},
   "outputs": [],
   "source": [
    "test_m['y_pred']=test_m['y_rf'].apply(lambda x: '0' if x == 0 else '1')\n",
    "\n",
    "to_drop_col=['Type','dist_to_center_km','distance_to_center','image', 'review','n_images',\n",
    "       'n_reviews','y_prob_rf', 'y_rf']\n",
    "test_m.drop(to_drop_col,axis=1,inplace=True)"
   ]
  },
  {
   "cell_type": "markdown",
   "metadata": {},
   "source": [
    "To include all observations in the test set to predict the number of clicks(n_clicks) i.e including test set observations with NA s in its features, median imputation i.e fill NA s with respective columns median value and if it's categorical type, impute most frequent observation of those respective column, so that we can elimiante all NA s in the test set for modelling purpose. "
   ]
  },
  {
   "cell_type": "code",
   "execution_count": 23,
   "metadata": {},
   "outputs": [],
   "source": [
    "def median_impute(adata):\n",
    "    \n",
    "    data = adata.copy()    \n",
    "    data['log_distance'] = data['log_distance'].fillna((data['log_distance'].median()))\n",
    "    data['log_review'] = data['log_review'].fillna((data['log_review'].median()))\n",
    "    data['log_image'] = data['log_image'].fillna((data['log_image'].median()))\n",
    "    data['content_score'] = data['content_score'].fillna((data['content_score'].median()))\n",
    "    data['avg_price'] = data['avg_price'].fillna((data['avg_price'].median()))\n",
    "    data['avg_saving_percent'] = data['avg_saving_percent'].fillna((data['avg_saving_percent'].median()))\n",
    "    return data\n"
   ]
  },
  {
   "cell_type": "code",
   "execution_count": 24,
   "metadata": {},
   "outputs": [],
   "source": [
    "test_m=median_impute(test_m)\n",
    "test_m = test_m.apply(lambda x:x.fillna(x.value_counts().index[0]))"
   ]
  },
  {
   "cell_type": "code",
   "execution_count": 25,
   "metadata": {},
   "outputs": [
    {
     "data": {
      "text/plain": [
       "(132162, 11)"
      ]
     },
     "execution_count": 25,
     "metadata": {},
     "output_type": "execute_result"
    }
   ],
   "source": [
    "##Test set has same number of observations as given \n",
    "test_m.shape\n"
   ]
  },
  {
   "cell_type": "markdown",
   "metadata": {},
   "source": [
    "Now, divide test set to two dataframe, one with predicted number of clicks equals 0 and other whose predicted number of clicks\n",
    "equal to 1. As said before, our aim is to modify the number of clicks for the test set with predicted value equals 1 and keep\n",
    "the dataframe with n_clicks=0 as such.\n"
   ]
  },
  {
   "cell_type": "code",
   "execution_count": 26,
   "metadata": {},
   "outputs": [],
   "source": [
    "test_m_val0=test_m[test_m['y_pred']=='0']\n",
    "test_m_val1=test_m[test_m['y_pred']=='1']"
   ]
  },
  {
   "cell_type": "code",
   "execution_count": 27,
   "metadata": {},
   "outputs": [],
   "source": [
    "train_m=train_m.dropna()\n",
    "features_todrop_train_m=['Type','distance_to_center','n_images','n_reviews','dist_to_center_km','image','review']\n",
    "df_train=train_m.drop(features_todrop_train_m,axis=1)"
   ]
  },
  {
   "cell_type": "code",
   "execution_count": 28,
   "metadata": {},
   "outputs": [
    {
     "data": {
      "text/plain": [
       "(Index(['avg_price', 'avg_rank', 'avg_saving_percent', 'city_id',\n",
       "        'content_score', 'hotel_id', 'n_clicks', 'stars', 'log_distance',\n",
       "        'log_image', 'log_review'],\n",
       "       dtype='object'), (395760, 11))"
      ]
     },
     "execution_count": 28,
     "metadata": {},
     "output_type": "execute_result"
    }
   ],
   "source": [
    "df_train.columns,df_train.shape"
   ]
  },
  {
   "cell_type": "markdown",
   "metadata": {},
   "source": [
    "Understanding the outliers is a bit tricky here; for sure, the effect of outliers in the regression model is going to\n",
    "worsen the model's predictive capability.\n",
    "\n",
    "Since we have the luxury of many number of train set observations, we can easily discard outlier values that look\n",
    "very unrealistic and huge. For this purpose, I am creating upper threshold at 0.99 percentile and discarding 0.01 precentile\n",
    "observation from the training set."
   ]
  },
  {
   "cell_type": "code",
   "execution_count": 29,
   "metadata": {},
   "outputs": [
    {
     "data": {
      "text/plain": [
       "0.00   0.00\n",
       "0.10   0.16\n",
       "0.20   0.35\n",
       "0.30   0.52\n",
       "0.40   0.71\n",
       "0.50   0.92\n",
       "0.60   1.17\n",
       "0.70   1.47\n",
       "0.80   1.83\n",
       "0.90   2.38\n",
       "0.98   3.84\n",
       "0.99   4.81\n",
       "1.00   7.94\n",
       "1.00   9.82\n",
       "Name: log_distance, dtype: float64"
      ]
     },
     "execution_count": 29,
     "metadata": {},
     "output_type": "execute_result"
    }
   ],
   "source": [
    "df_train['log_distance'].quantile([0, 0.1, 0.2, 0.3, 0.4, 0.5, 0.6, 0.7, 0.8, 0.9,0.98,0.99,0.999, 1])"
   ]
  },
  {
   "cell_type": "code",
   "execution_count": 30,
   "metadata": {},
   "outputs": [
    {
     "name": "stdout",
     "output_type": "stream",
     "text": [
      "(395364, 11)\n",
      "(394964, 11)\n",
      "(394590, 11)\n",
      "(394194, 11)\n"
     ]
    }
   ],
   "source": [
    "upper_images=np.percentile(df_train['log_image'],99.9)\n",
    "upper_reviews=np.percentile(df_train['log_review'],99.9)\n",
    "upper_clicks=np.percentile(df_train['n_clicks'],99.9)\n",
    "upper_distance=np.percentile(df_train['log_distance'],99.9)\n",
    "\n",
    "df_train=df_train[(df_train[\"n_clicks\"]<upper_clicks)]\n",
    "print(df_train.shape)\n",
    "df_train=df_train[(df_train[\"log_image\"]<upper_images)]\n",
    "print(df_train.shape)\n",
    "df_train=df_train[(df_train[\"log_review\"]<upper_reviews)]\n",
    "print(df_train.shape)\n",
    "df_train=df_train[(df_train[\"log_distance\"]<upper_distance)]\n",
    "print(df_train.shape)\n"
   ]
  },
  {
   "cell_type": "code",
   "execution_count": 31,
   "metadata": {},
   "outputs": [],
   "source": [
    "#Defining weighted mean squared error which is the evaluation metric used for checking model accuracy\n",
    "def weighted_mse(y_test,y_pred):\n",
    "    w_i = np.log(y_test + 1) + 1\n",
    "    w = np.sum(w_i)\n",
    "    mse = np.sum(np.multiply(w_i, np.square(y_pred - y_test)))\n",
    "    final = mse / w * len(y_test)\n",
    "    return final"
   ]
  },
  {
   "cell_type": "code",
   "execution_count": 32,
   "metadata": {},
   "outputs": [
    {
     "name": "stdout",
     "output_type": "stream",
     "text": [
      "weighted mse of Base model is:  1138170431.8757913\n",
      "weighted mse of RF model is:  637962677.9261893\n"
     ]
    }
   ],
   "source": [
    "\n",
    "y = df_train.pop('n_clicks')\n",
    "X = df_train\n",
    "\n",
    "X_train, X_test, y_train, y_test = train_test_split(X, y, test_size=0.2, random_state=324)\n",
    "\n",
    "##########BASE MODEL######\n",
    "from sklearn.linear_model import LinearRegression\n",
    "regressor_lr = LinearRegression()\n",
    "regressor_lr.fit(X_train, y_train)\n",
    "y_pred_lr = regressor_lr.predict(X_test)\n",
    "print(\"weighted mse of Base model is: \",weighted_mse(y_test,y_pred_lr))\n",
    "######### RANDOM FOREST REGRESSOR #####\n",
    "from sklearn.ensemble import RandomForestRegressor\n",
    "regr_rf = RandomForestRegressor(random_state=0,n_estimators=100)\n",
    "regr_rf.fit(X_train, y_train)\n",
    "RandomForestRegressor(bootstrap=True, criterion='mse',\n",
    "           max_features='auto', max_leaf_nodes=None,\n",
    "           min_impurity_decrease=0.0, min_impurity_split=None,\n",
    "           min_samples_leaf=1, min_samples_split=2,\n",
    "           min_weight_fraction_leaf=0.0, n_estimators=100, n_jobs=None,\n",
    "           oob_score=False, random_state=0, verbose=0, warm_start=False)\n",
    "#print(regr_rf.feature_importances_)\n",
    "y_pred=regr_rf.predict(X_test)\n",
    "print(\"weighted mse of RF model is: \",weighted_mse(y_test,y_pred))\n"
   ]
  },
  {
   "cell_type": "code",
   "execution_count": 33,
   "metadata": {},
   "outputs": [
    {
     "data": {
      "text/html": [
       "<div>\n",
       "<style scoped>\n",
       "    .dataframe tbody tr th:only-of-type {\n",
       "        vertical-align: middle;\n",
       "    }\n",
       "\n",
       "    .dataframe tbody tr th {\n",
       "        vertical-align: top;\n",
       "    }\n",
       "\n",
       "    .dataframe thead th {\n",
       "        text-align: right;\n",
       "    }\n",
       "</style>\n",
       "<table border=\"1\" class=\"dataframe\">\n",
       "  <thead>\n",
       "    <tr style=\"text-align: right;\">\n",
       "      <th></th>\n",
       "      <th>avg_price</th>\n",
       "      <th>avg_rank</th>\n",
       "      <th>avg_saving_percent</th>\n",
       "      <th>city_id</th>\n",
       "      <th>content_score</th>\n",
       "      <th>hotel_id</th>\n",
       "      <th>stars</th>\n",
       "      <th>log_distance</th>\n",
       "      <th>log_image</th>\n",
       "      <th>log_review</th>\n",
       "      <th>y_pred</th>\n",
       "    </tr>\n",
       "  </thead>\n",
       "  <tbody>\n",
       "    <tr>\n",
       "      <th>0</th>\n",
       "      <td>90.19</td>\n",
       "      <td>13.50</td>\n",
       "      <td>32.00</td>\n",
       "      <td>122750.00</td>\n",
       "      <td>58.00</td>\n",
       "      <td>14942256073.00</td>\n",
       "      <td>0.00</td>\n",
       "      <td>2.53</td>\n",
       "      <td>1.10</td>\n",
       "      <td>5.13</td>\n",
       "      <td>1</td>\n",
       "    </tr>\n",
       "    <tr>\n",
       "      <th>1</th>\n",
       "      <td>98.27</td>\n",
       "      <td>13.67</td>\n",
       "      <td>19.00</td>\n",
       "      <td>28134.00</td>\n",
       "      <td>68.00</td>\n",
       "      <td>16036037903.00</td>\n",
       "      <td>5.00</td>\n",
       "      <td>0.66</td>\n",
       "      <td>1.61</td>\n",
       "      <td>6.60</td>\n",
       "      <td>1</td>\n",
       "    </tr>\n",
       "    <tr>\n",
       "      <th>3</th>\n",
       "      <td>72.32</td>\n",
       "      <td>15.00</td>\n",
       "      <td>0.00</td>\n",
       "      <td>54398.00</td>\n",
       "      <td>47.00</td>\n",
       "      <td>129041645070.00</td>\n",
       "      <td>0.00</td>\n",
       "      <td>0.99</td>\n",
       "      <td>0.00</td>\n",
       "      <td>4.25</td>\n",
       "      <td>1</td>\n",
       "    </tr>\n",
       "    <tr>\n",
       "      <th>6</th>\n",
       "      <td>141.94</td>\n",
       "      <td>15.45</td>\n",
       "      <td>4.00</td>\n",
       "      <td>137162.00</td>\n",
       "      <td>57.00</td>\n",
       "      <td>68479216174.00</td>\n",
       "      <td>1.00</td>\n",
       "      <td>0.14</td>\n",
       "      <td>0.69</td>\n",
       "      <td>6.60</td>\n",
       "      <td>1</td>\n",
       "    </tr>\n",
       "    <tr>\n",
       "      <th>7</th>\n",
       "      <td>42.87</td>\n",
       "      <td>17.48</td>\n",
       "      <td>43.00</td>\n",
       "      <td>247132.00</td>\n",
       "      <td>59.00</td>\n",
       "      <td>80414273157.00</td>\n",
       "      <td>0.00</td>\n",
       "      <td>1.00</td>\n",
       "      <td>0.69</td>\n",
       "      <td>6.13</td>\n",
       "      <td>1</td>\n",
       "    </tr>\n",
       "  </tbody>\n",
       "</table>\n",
       "</div>"
      ],
      "text/plain": [
       "   avg_price  avg_rank  avg_saving_percent   city_id  content_score  \\\n",
       "0      90.19     13.50               32.00 122750.00          58.00   \n",
       "1      98.27     13.67               19.00  28134.00          68.00   \n",
       "3      72.32     15.00                0.00  54398.00          47.00   \n",
       "6     141.94     15.45                4.00 137162.00          57.00   \n",
       "7      42.87     17.48               43.00 247132.00          59.00   \n",
       "\n",
       "         hotel_id stars  log_distance  log_image  log_review y_pred  \n",
       "0  14942256073.00  0.00          2.53       1.10        5.13      1  \n",
       "1  16036037903.00  5.00          0.66       1.61        6.60      1  \n",
       "3 129041645070.00  0.00          0.99       0.00        4.25      1  \n",
       "6  68479216174.00  1.00          0.14       0.69        6.60      1  \n",
       "7  80414273157.00  0.00          1.00       0.69        6.13      1  "
      ]
     },
     "execution_count": 33,
     "metadata": {},
     "output_type": "execute_result"
    }
   ],
   "source": [
    "test_m_val1.head()"
   ]
  },
  {
   "cell_type": "code",
   "execution_count": 34,
   "metadata": {},
   "outputs": [
    {
     "data": {
      "text/plain": [
       "[('avg_price', 0.08801292235420548),\n",
       " ('avg_rank', 0.14134488385301455),\n",
       " ('avg_saving_percent', 0.10032231208567433),\n",
       " ('city_id', 0.23099206751462906),\n",
       " ('content_score', 0.04209367119445367),\n",
       " ('hotel_id', 0.11794682807961943),\n",
       " ('stars', 0.029918153358612996),\n",
       " ('log_distance', 0.06104673312822602),\n",
       " ('log_image', 0.04130864391676314),\n",
       " ('log_review', 0.14701378451480143)]"
      ]
     },
     "execution_count": 34,
     "metadata": {},
     "output_type": "execute_result"
    }
   ],
   "source": [
    "list(zip(X_train, regr_rf.feature_importances_))"
   ]
  },
  {
   "cell_type": "code",
   "execution_count": 35,
   "metadata": {},
   "outputs": [],
   "source": [
    "test_m_val1.drop('y_pred',axis=1,inplace=True)\n",
    "test_m_val1['y_pred'] =np.round(regr_rf.predict(test_m_val1))\n",
    "test_m_final=test_m_val0.append(test_m_val1)\n",
    "\n"
   ]
  },
  {
   "cell_type": "code",
   "execution_count": 36,
   "metadata": {},
   "outputs": [],
   "source": [
    "submission=['hotel_id','y_pred']\n",
    "df_submission=test_m_final[submission]"
   ]
  },
  {
   "cell_type": "code",
   "execution_count": 39,
   "metadata": {},
   "outputs": [],
   "source": [
    "df_submission.to_csv('submission.csv')"
   ]
  },
  {
   "cell_type": "code",
   "execution_count": null,
   "metadata": {},
   "outputs": [],
   "source": []
  }
 ],
 "metadata": {
  "kernelspec": {
   "display_name": "Python 3",
   "language": "python",
   "name": "python3"
  },
  "language_info": {
   "codemirror_mode": {
    "name": "ipython",
    "version": 3
   },
   "file_extension": ".py",
   "mimetype": "text/x-python",
   "name": "python",
   "nbconvert_exporter": "python",
   "pygments_lexer": "ipython3",
   "version": "3.7.1"
  }
 },
 "nbformat": 4,
 "nbformat_minor": 2
}
